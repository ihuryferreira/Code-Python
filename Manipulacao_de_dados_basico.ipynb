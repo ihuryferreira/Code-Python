{
  "nbformat": 4,
  "nbformat_minor": 0,
  "metadata": {
    "colab": {
      "name": "Manipulacao_de_dados_basico.ipynb",
      "provenance": [],
      "authorship_tag": "ABX9TyOZQ4SPHJyi2svesvkeJUci",
      "include_colab_link": true
    },
    "kernelspec": {
      "name": "python3",
      "display_name": "Python 3"
    },
    "language_info": {
      "name": "python"
    }
  },
  "cells": [
    {
      "cell_type": "markdown",
      "metadata": {
        "id": "view-in-github",
        "colab_type": "text"
      },
      "source": [
        "<a href=\"https://colab.research.google.com/github/ihuryferreira/Code-Python/blob/main/Manipulacao_de_dados_basico.ipynb\" target=\"_parent\"><img src=\"https://colab.research.google.com/assets/colab-badge.svg\" alt=\"Open In Colab\"/></a>"
      ]
    },
    {
      "cell_type": "markdown",
      "metadata": {
        "id": "5gQuoovUgZ3U"
      },
      "source": [
        "# **Capítulo 1 - Manipulação de dados: Básico**\n",
        "# **Seção 2 - Selecionando dados**\n",
        "# **Importando a Bibliotecas e classes***"
      ]
    },
    {
      "cell_type": "code",
      "metadata": {
        "id": "CSZjXaDee61R"
      },
      "source": [
        "import pandas as pd\n",
        "import numpy as np\n",
        "\n",
        "from pandas import Series, DataFrame"
      ],
      "execution_count": 8,
      "outputs": []
    },
    {
      "cell_type": "markdown",
      "metadata": {
        "id": "oHJKsRCAh_Sq"
      },
      "source": [
        "#**Criando Dados**\n",
        "\n",
        "###np.arange(valor)"
      ]
    },
    {
      "cell_type": "code",
      "metadata": {
        "id": "7nvlelH_iFW6"
      },
      "source": [
        "dados = np.arange(8)"
      ],
      "execution_count": 9,
      "outputs": []
    },
    {
      "cell_type": "code",
      "metadata": {
        "colab": {
          "base_uri": "https://localhost:8080/"
        },
        "id": "vbGulhigip3o",
        "outputId": "2f96cb11-1386-49b2-e54f-274a80b7bf34"
      },
      "source": [
        "dados"
      ],
      "execution_count": 11,
      "outputs": [
        {
          "output_type": "execute_result",
          "data": {
            "text/plain": [
              "array([0, 1, 2, 3, 4, 5, 6, 7])"
            ]
          },
          "metadata": {
            "tags": []
          },
          "execution_count": 11
        }
      ]
    },
    {
      "cell_type": "markdown",
      "metadata": {
        "id": "BZwpsquSjE0U"
      },
      "source": [
        "#**Reoganizando dados**\n",
        "\n",
        "np.reshape((linhas, colunas))"
      ]
    },
    {
      "cell_type": "code",
      "metadata": {
        "colab": {
          "base_uri": "https://localhost:8080/"
        },
        "id": "DQkJcXczjC1y",
        "outputId": "d1515a74-7014-4410-fb13-485482a8fff0"
      },
      "source": [
        "dados.reshape((4, 2))"
      ],
      "execution_count": 13,
      "outputs": [
        {
          "output_type": "execute_result",
          "data": {
            "text/plain": [
              "array([[0, 1],\n",
              "       [2, 3],\n",
              "       [4, 5],\n",
              "       [6, 7]])"
            ]
          },
          "metadata": {
            "tags": []
          },
          "execution_count": 13
        }
      ]
    },
    {
      "cell_type": "markdown",
      "metadata": {
        "id": "QZGESEP_j7DB"
      },
      "source": [
        "#**Selecionar e buscar dados**"
      ]
    },
    {
      "cell_type": "code",
      "metadata": {
        "id": "a5aDY8rZkBRO"
      },
      "source": [
        "indice = ['linha 1', 'linha 2', 'linha 3', 'linha 4',\n",
        "          'linha 5', 'linha 6', 'linha 7', 'linha 8',]\n",
        "serie = Series(dados, index=indice)"
      ],
      "execution_count": 15,
      "outputs": []
    },
    {
      "cell_type": "code",
      "metadata": {
        "colab": {
          "base_uri": "https://localhost:8080/"
        },
        "id": "vPmOIR1ekok4",
        "outputId": "dc2591bf-c1a3-425e-9a96-43667bcc14de"
      },
      "source": [
        "serie"
      ],
      "execution_count": 16,
      "outputs": [
        {
          "output_type": "execute_result",
          "data": {
            "text/plain": [
              "linha 1    0\n",
              "linha 2    1\n",
              "linha 3    2\n",
              "linha 4    3\n",
              "linha 5    4\n",
              "linha 6    5\n",
              "linha 7    6\n",
              "linha 8    7\n",
              "dtype: int64"
            ]
          },
          "metadata": {
            "tags": []
          },
          "execution_count": 16
        }
      ]
    },
    {
      "cell_type": "markdown",
      "metadata": {
        "id": "0AvQX7Pvk_oz"
      },
      "source": [
        "#['indice']"
      ]
    },
    {
      "cell_type": "code",
      "metadata": {
        "colab": {
          "base_uri": "https://localhost:8080/"
        },
        "id": "E91kqtColEJJ",
        "outputId": "d76d3cb8-77ae-4e08-9b23-0b3aad403d25"
      },
      "source": [
        "serie['linha 7']"
      ],
      "execution_count": 17,
      "outputs": [
        {
          "output_type": "execute_result",
          "data": {
            "text/plain": [
              "6"
            ]
          },
          "metadata": {
            "tags": []
          },
          "execution_count": 17
        }
      ]
    },
    {
      "cell_type": "code",
      "metadata": {
        "colab": {
          "base_uri": "https://localhost:8080/",
          "height": 235
        },
        "id": "FEgexbCdleLV",
        "outputId": "6f8af382-bdea-4e35-c7c6-568a3c0c45a1"
      },
      "source": [
        "np.random.seed(25)\n",
        "indice = ['linha 1', 'linha 2', 'linha 3', 'linha 4', 'linha 5', 'linha 6']\n",
        "colunas = ['coluna 1', 'coluna 2', 'coluna 3', 'coluna 4', 'coluna 5', 'coluna 6']\n",
        "df = DataFrame(np.random.rand(36).reshape((6,6)),\n",
        "               index=indice,\n",
        "               columns=colunas)\n",
        "df"
      ],
      "execution_count": 19,
      "outputs": [
        {
          "output_type": "execute_result",
          "data": {
            "text/html": [
              "<div>\n",
              "<style scoped>\n",
              "    .dataframe tbody tr th:only-of-type {\n",
              "        vertical-align: middle;\n",
              "    }\n",
              "\n",
              "    .dataframe tbody tr th {\n",
              "        vertical-align: top;\n",
              "    }\n",
              "\n",
              "    .dataframe thead th {\n",
              "        text-align: right;\n",
              "    }\n",
              "</style>\n",
              "<table border=\"1\" class=\"dataframe\">\n",
              "  <thead>\n",
              "    <tr style=\"text-align: right;\">\n",
              "      <th></th>\n",
              "      <th>coluna 1</th>\n",
              "      <th>coluna 2</th>\n",
              "      <th>coluna 3</th>\n",
              "      <th>coluna 4</th>\n",
              "      <th>coluna 5</th>\n",
              "      <th>coluna 6</th>\n",
              "    </tr>\n",
              "  </thead>\n",
              "  <tbody>\n",
              "    <tr>\n",
              "      <th>linha 1</th>\n",
              "      <td>0.870124</td>\n",
              "      <td>0.582277</td>\n",
              "      <td>0.278839</td>\n",
              "      <td>0.185911</td>\n",
              "      <td>0.411100</td>\n",
              "      <td>0.117376</td>\n",
              "    </tr>\n",
              "    <tr>\n",
              "      <th>linha 2</th>\n",
              "      <td>0.684969</td>\n",
              "      <td>0.437611</td>\n",
              "      <td>0.556229</td>\n",
              "      <td>0.367080</td>\n",
              "      <td>0.402366</td>\n",
              "      <td>0.113041</td>\n",
              "    </tr>\n",
              "    <tr>\n",
              "      <th>linha 3</th>\n",
              "      <td>0.447031</td>\n",
              "      <td>0.585445</td>\n",
              "      <td>0.161985</td>\n",
              "      <td>0.520719</td>\n",
              "      <td>0.326051</td>\n",
              "      <td>0.699186</td>\n",
              "    </tr>\n",
              "    <tr>\n",
              "      <th>linha 4</th>\n",
              "      <td>0.366395</td>\n",
              "      <td>0.836375</td>\n",
              "      <td>0.481343</td>\n",
              "      <td>0.516502</td>\n",
              "      <td>0.383048</td>\n",
              "      <td>0.997541</td>\n",
              "    </tr>\n",
              "    <tr>\n",
              "      <th>linha 5</th>\n",
              "      <td>0.514244</td>\n",
              "      <td>0.559053</td>\n",
              "      <td>0.034450</td>\n",
              "      <td>0.719930</td>\n",
              "      <td>0.421004</td>\n",
              "      <td>0.436935</td>\n",
              "    </tr>\n",
              "    <tr>\n",
              "      <th>linha 6</th>\n",
              "      <td>0.281701</td>\n",
              "      <td>0.900274</td>\n",
              "      <td>0.669612</td>\n",
              "      <td>0.456069</td>\n",
              "      <td>0.289804</td>\n",
              "      <td>0.525819</td>\n",
              "    </tr>\n",
              "  </tbody>\n",
              "</table>\n",
              "</div>"
            ],
            "text/plain": [
              "         coluna 1  coluna 2  coluna 3  coluna 4  coluna 5  coluna 6\n",
              "linha 1  0.870124  0.582277  0.278839  0.185911  0.411100  0.117376\n",
              "linha 2  0.684969  0.437611  0.556229  0.367080  0.402366  0.113041\n",
              "linha 3  0.447031  0.585445  0.161985  0.520719  0.326051  0.699186\n",
              "linha 4  0.366395  0.836375  0.481343  0.516502  0.383048  0.997541\n",
              "linha 5  0.514244  0.559053  0.034450  0.719930  0.421004  0.436935\n",
              "linha 6  0.281701  0.900274  0.669612  0.456069  0.289804  0.525819"
            ]
          },
          "metadata": {
            "tags": []
          },
          "execution_count": 19
        }
      ]
    },
    {
      "cell_type": "markdown",
      "metadata": {
        "id": "VWHjJP4tntlK"
      },
      "source": [
        "#nome_do_objeto.loc[[linhas], [colunas]]"
      ]
    },
    {
      "cell_type": "code",
      "metadata": {
        "colab": {
          "base_uri": "https://localhost:8080/",
          "height": 111
        },
        "id": "OFfzux5roBPd",
        "outputId": "47d254a8-8480-4a9c-8fd5-43bb74b599af"
      },
      "source": [
        "df.loc[['linha 2', 'linha 4'], ['coluna 3', 'coluna 5']]"
      ],
      "execution_count": 20,
      "outputs": [
        {
          "output_type": "execute_result",
          "data": {
            "text/html": [
              "<div>\n",
              "<style scoped>\n",
              "    .dataframe tbody tr th:only-of-type {\n",
              "        vertical-align: middle;\n",
              "    }\n",
              "\n",
              "    .dataframe tbody tr th {\n",
              "        vertical-align: top;\n",
              "    }\n",
              "\n",
              "    .dataframe thead th {\n",
              "        text-align: right;\n",
              "    }\n",
              "</style>\n",
              "<table border=\"1\" class=\"dataframe\">\n",
              "  <thead>\n",
              "    <tr style=\"text-align: right;\">\n",
              "      <th></th>\n",
              "      <th>coluna 3</th>\n",
              "      <th>coluna 5</th>\n",
              "    </tr>\n",
              "  </thead>\n",
              "  <tbody>\n",
              "    <tr>\n",
              "      <th>linha 2</th>\n",
              "      <td>0.556229</td>\n",
              "      <td>0.402366</td>\n",
              "    </tr>\n",
              "    <tr>\n",
              "      <th>linha 4</th>\n",
              "      <td>0.481343</td>\n",
              "      <td>0.383048</td>\n",
              "    </tr>\n",
              "  </tbody>\n",
              "</table>\n",
              "</div>"
            ],
            "text/plain": [
              "         coluna 3  coluna 5\n",
              "linha 2  0.556229  0.402366\n",
              "linha 4  0.481343  0.383048"
            ]
          },
          "metadata": {
            "tags": []
          },
          "execution_count": 20
        }
      ]
    },
    {
      "cell_type": "markdown",
      "metadata": {
        "id": "cpkfc0Yqoqbt"
      },
      "source": [
        "#**Fatiando dados**\n",
        "\n",
        "**[[indice inicial]:indice final]**"
      ]
    },
    {
      "cell_type": "code",
      "metadata": {
        "colab": {
          "base_uri": "https://localhost:8080/"
        },
        "id": "drz33p18pNaG",
        "outputId": "83f6978f-358d-4fc5-b643-a1906d5c16bd"
      },
      "source": [
        "serie['linha 3': 'linha 7']"
      ],
      "execution_count": 21,
      "outputs": [
        {
          "output_type": "execute_result",
          "data": {
            "text/plain": [
              "linha 3    2\n",
              "linha 4    3\n",
              "linha 5    4\n",
              "linha 6    5\n",
              "linha 7    6\n",
              "dtype: int64"
            ]
          },
          "metadata": {
            "tags": []
          },
          "execution_count": 21
        }
      ]
    }
  ]
}